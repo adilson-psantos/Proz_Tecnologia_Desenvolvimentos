{
  "nbformat": 4,
  "nbformat_minor": 0,
  "metadata": {
    "colab": {
      "provenance": [],
      "authorship_tag": "ABX9TyOZWQGj1S8MtE59ubLb//cr",
      "include_colab_link": true
    },
    "kernelspec": {
      "name": "python3",
      "display_name": "Python 3"
    },
    "language_info": {
      "name": "python"
    }
  },
  "cells": [
    {
      "cell_type": "markdown",
      "metadata": {
        "id": "view-in-github",
        "colab_type": "text"
      },
      "source": [
        "<a href=\"https://colab.research.google.com/github/diperssan/Proz_Tecnologia_Desenvolvimentos/blob/main/Desenvolvimento_3_Hotel.ipynb\" target=\"_parent\"><img src=\"https://colab.research.google.com/assets/colab-badge.svg\" alt=\"Open In Colab\"/></a>"
      ]
    },
    {
      "cell_type": "markdown",
      "source": [
        "***Comando for if e imprimindo os andares em ordem crescente do primeiro ao vigésimo andar.***"
      ],
      "metadata": {
        "id": "QPErgOb19mpT"
      }
    },
    {
      "cell_type": "code",
      "execution_count": 47,
      "metadata": {
        "colab": {
          "base_uri": "https://localhost:8080/"
        },
        "id": "1j_yrOThWeX8",
        "outputId": "e95b8ce1-8130-434a-d367-e35b390f2499"
      },
      "outputs": [
        {
          "output_type": "stream",
          "name": "stdout",
          "text": [
            "1 º Andar\n",
            "2 º Andar\n",
            "3 º Andar\n",
            "4 º Andar\n",
            "5 º Andar\n",
            "6 º Andar\n",
            "7 º Andar\n",
            "8 º Andar\n",
            "9 º Andar\n",
            "10 º Andar\n",
            "11 º Andar\n",
            "12 º Andar\n",
            "14 º Andar\n",
            "15 º Andar\n",
            "16 º Andar\n",
            "17 º Andar\n",
            "18 º Andar\n",
            "19 º Andar\n",
            "20 º Andar\n",
            "21 º Andar\n"
          ]
        }
      ],
      "source": [
        "for andar in range(1, 22): # itera pelos números de 1 a 21\n",
        "    if andar != 13: # se o número não for 13 não imprimir\n",
        "        print(andar,\"º Andar\") # imprime o número\n",
        "\n",
        "\n",
        "\n",
        "\n"
      ]
    },
    {
      "cell_type": "markdown",
      "source": [
        "***Comando While if imprimi os andares do vigésimo ao primeiro andar em ordem decrescente.***"
      ],
      "metadata": {
        "id": "Nvmz5sXn-CR4"
      }
    },
    {
      "cell_type": "code",
      "source": [
        "andar = 20  # inicia o andar como 20\n",
        "\n",
        "while andar >= 1:  # enquanto o número for maior ou igual a 1\n",
        "    if andar != 13:  # se o número não for 13\n",
        "        print(andar,\"ºAndar\")  # imprime o número\n",
        "    andar -= 1  # decrementa o número em 1"
      ],
      "metadata": {
        "colab": {
          "base_uri": "https://localhost:8080/"
        },
        "id": "9rnFdxRP98rV",
        "outputId": "53179695-ea01-4887-dd94-d39a5c31b5c6"
      },
      "execution_count": 48,
      "outputs": [
        {
          "output_type": "stream",
          "name": "stdout",
          "text": [
            "20 ºAndar\n",
            "19 ºAndar\n",
            "18 ºAndar\n",
            "17 ºAndar\n",
            "16 ºAndar\n",
            "15 ºAndar\n",
            "14 ºAndar\n",
            "12 ºAndar\n",
            "11 ºAndar\n",
            "10 ºAndar\n",
            "9 ºAndar\n",
            "8 ºAndar\n",
            "7 ºAndar\n",
            "6 ºAndar\n",
            "5 ºAndar\n",
            "4 ºAndar\n",
            "3 ºAndar\n",
            "2 ºAndar\n",
            "1 ºAndar\n"
          ]
        }
      ]
    },
    {
      "cell_type": "markdown",
      "source": [
        "***Função While, usando break e continue em ordem decrescente***"
      ],
      "metadata": {
        "id": "iGQJm7009Q72"
      }
    },
    {
      "cell_type": "code",
      "source": [
        "andar = 20  # inicia o andar no 20\n",
        "\n",
        "while andar >= 1:  # enquanto o número for maior ou igual a 1\n",
        "    if andar == 13:  # se o número for 13\n",
        "        andar -= 1  # decrementa o número em 1 e continua para a próxima iteração\n",
        "        continue\n",
        "    print(andar,\"ºAndar\")  # imprime o número do andar\n",
        "    andar -= 1  # decrementa o número em 1\n",
        "    if andar < 1:  # se o número for menor que 1\n",
        "        break  # interrompe o loop"
      ],
      "metadata": {
        "colab": {
          "base_uri": "https://localhost:8080/"
        },
        "id": "eoFpAp5Z9Pta",
        "outputId": "8e8e253a-a982-4790-a4d1-1606ee8c64cd"
      },
      "execution_count": 49,
      "outputs": [
        {
          "output_type": "stream",
          "name": "stdout",
          "text": [
            "20 ºAndar\n",
            "19 ºAndar\n",
            "18 ºAndar\n",
            "17 ºAndar\n",
            "16 ºAndar\n",
            "15 ºAndar\n",
            "14 ºAndar\n",
            "12 ºAndar\n",
            "11 ºAndar\n",
            "10 ºAndar\n",
            "9 ºAndar\n",
            "8 ºAndar\n",
            "7 ºAndar\n",
            "6 ºAndar\n",
            "5 ºAndar\n",
            "4 ºAndar\n",
            "3 ºAndar\n",
            "2 ºAndar\n",
            "1 ºAndar\n"
          ]
        }
      ]
    }
  ]
}