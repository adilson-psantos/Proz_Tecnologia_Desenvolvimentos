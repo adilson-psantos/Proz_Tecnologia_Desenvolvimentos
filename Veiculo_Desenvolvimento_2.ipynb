{
  "nbformat": 4,
  "nbformat_minor": 0,
  "metadata": {
    "colab": {
      "provenance": [],
      "authorship_tag": "ABX9TyNcEdZc49kvl+ruHuqapL2T",
      "include_colab_link": true
    },
    "kernelspec": {
      "name": "python3",
      "display_name": "Python 3"
    },
    "language_info": {
      "name": "python"
    }
  },
  "cells": [
    {
      "cell_type": "markdown",
      "metadata": {
        "id": "view-in-github",
        "colab_type": "text"
      },
      "source": [
        "<a href=\"https://colab.research.google.com/github/diperssan/Proz_Tecnologia_Desenvolvimentos/blob/main/Veiculo_Desenvolvimento_2.ipynb\" target=\"_parent\"><img src=\"https://colab.research.google.com/assets/colab-badge.svg\" alt=\"Open In Colab\"/></a>"
      ]
    },
    {
      "cell_type": "markdown",
      "source": [
        "Categorias conforme Detran:\n",
        "\n",
        "Categoria A: Veículo motorizado de duas ou três rodas, com ou sem carro lateral. Ex.: Motocicleta, Ciclomotor, Motoneta ou Triciclo;\n",
        "\n",
        "Categoria B: Veículos cujo peso bruto total não exceda a 3500 kg ou cuja lotação não exceda 8 lugares, excluído o do motorista. Ex.: Automóvel, caminhonete, camioneta, utilitário.\n",
        "\n",
        "Categoria C: Veículos utilizados no transporte de carga e que exceda os 3500 kg. Ex: Caminhão.\n",
        "\n",
        "Categoria D: Veículos utilizados no transporte de passageiros, cuja lotação exceda a 08 passageiros, excluindo o motorista. Ex: Micro-ônibus, Ônibus.\n",
        "\n",
        "Categoria E: Todos os veículos das categorias B, C ou D e cuja unidade acoplada, reboque, semi reboque, trailer ou articulada tenha 6.000 kg ou mais de peso bruto total, ou cuja lotação exceda a 8 lugares. Condutor de combinação de veículos com mais de uma unidade tracionada, independentemente da capacidade de tração ou do peso bruto total. Ex.: Veículo com dois reboques acoplados."
      ],
      "metadata": {
        "id": "BGZmERkH4OPZ"
      }
    },
    {
      "cell_type": "code",
      "execution_count": null,
      "metadata": {
        "colab": {
          "base_uri": "https://localhost:8080/"
        },
        "id": "Fn7RNa7xwi8r",
        "outputId": "754e36ab-166c-44ba-a211-8269c888de81"
      },
      "outputs": [
        {
          "output_type": "stream",
          "name": "stdout",
          "text": [
            "Encontre a categoria do seu veículo respondendo as questões abaixo: \n",
            "Digite a quantidade de rodas: 3\n",
            "Digite o peso do veículo (em km): 200\n",
            "Digite a quantidade de pessoas no veículo: 2\n",
            "A categoria do seu veículo é: A.\n"
          ]
        }
      ],
      "source": [
        "print(\"Encontre a categoria do seu veículo respondendo as questões abaixo: \")\n",
        "quantidade_rodas = int(input(\"Digite a quantidade de rodas: \"))\n",
        "peso_do_veiculo = int(input(\"Digite o peso do veículo (em km): \"))\n",
        "quantidade_pessoas = int(input(\"Digite a quantidade de pessoas no veículo: \"))\n",
        "\n",
        "if (quantidade_rodas == 2 or quantidade_rodas == 3):\n",
        "\tprint(\"A categoria do seu veículo é: A.\")\n",
        "elif(quantidade_rodas == 4) and (quantidade_pessoas <= 8) and (peso_do_veiculo <= 3500):\n",
        "\tprint(\"A categoria do seu veículo é: B.\")\n",
        "elif (quantidade_rodas >= 4 and quantidade_pessoas > 8):\n",
        "  print(\"A categoria do seu veículo é: D.\")\n",
        "elif (quantidade_rodas >= 4) and (peso_do_veiculo > 3500 and peso_do_veiculo < 6000):\n",
        "\tprint(\"A categoria do seu veículo é: C.\")\n",
        "else:\n",
        "  print(\"A categoaria do seu veículo é: E.\")"
      ]
    }
  ]
}